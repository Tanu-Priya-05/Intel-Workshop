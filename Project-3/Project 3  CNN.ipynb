{
 "cells": [
  {
   "cell_type": "markdown",
   "metadata": {
    "colab_type": "text",
    "id": "3DR-eO17geWu"
   },
   "source": [
    "# Convolutional Neural Network"
   ]
  },
  {
   "cell_type": "markdown",
   "metadata": {
    "colab_type": "text",
    "id": "EMefrVPCg-60"
   },
   "source": [
    "### Importing the libraries"
   ]
  },
  {
   "cell_type": "code",
   "execution_count": 1,
   "metadata": {
    "colab": {},
    "colab_type": "code",
    "id": "sCV30xyVhFbE"
   },
   "outputs": [],
   "source": [
    "import tensorflow as tf\n",
    "from keras.preprocessing.image import ImageDataGenerator\n",
    "import matplotlib.pyplot as plt"
   ]
  },
  {
   "cell_type": "code",
   "execution_count": 2,
   "metadata": {
    "colab": {},
    "colab_type": "code",
    "id": "FIleuCAjoFD8"
   },
   "outputs": [
    {
     "data": {
      "text/plain": [
       "'2.9.1'"
      ]
     },
     "execution_count": 2,
     "metadata": {},
     "output_type": "execute_result"
    }
   ],
   "source": [
    "tf.__version__"
   ]
  },
  {
   "cell_type": "markdown",
   "metadata": {
    "colab_type": "text",
    "id": "oxQxCBWyoGPE"
   },
   "source": [
    "## Part 1 - Data Preprocessing"
   ]
  },
  {
   "cell_type": "markdown",
   "metadata": {
    "colab_type": "text",
    "id": "MvE-heJNo3GG"
   },
   "source": [
    "### Preprocessing the Training set"
   ]
  },
  {
   "cell_type": "code",
   "execution_count": 4,
   "metadata": {
    "colab": {},
    "colab_type": "code",
    "id": "0koUcJMJpEBD"
   },
   "outputs": [
    {
     "name": "stdout",
     "output_type": "stream",
     "text": [
      "Found 8005 images belonging to 2 classes.\n"
     ]
    }
   ],
   "source": [
    "train_datagen = ImageDataGenerator(rescale = 1./255,\n",
    "                                   shear_range = 0.2,\n",
    "                                   zoom_range = 0.2,\n",
    "                                   horizontal_flip = True)\n",
    "training_set = train_datagen.flow_from_directory('C:/Users/DELL/jupyter intel/training_set',\n",
    "                                                 target_size = (64, 64),\n",
    "                                                 batch_size = 32,\n",
    "                                                 class_mode = 'binary')"
   ]
  },
  {
   "cell_type": "markdown",
   "metadata": {
    "colab_type": "text",
    "id": "mrCMmGw9pHys"
   },
   "source": [
    "### Preprocessing the Test set"
   ]
  },
  {
   "cell_type": "code",
   "execution_count": 6,
   "metadata": {
    "colab": {},
    "colab_type": "code",
    "id": "SH4WzfOhpKc3"
   },
   "outputs": [
    {
     "name": "stdout",
     "output_type": "stream",
     "text": [
      "Found 2023 images belonging to 1 classes.\n"
     ]
    }
   ],
   "source": [
    "test_datagen = ImageDataGenerator(rescale = 1./255)\n",
    "test_set = test_datagen.flow_from_directory('C:/Users/DELL/jupyter intel/test_set',\n",
    "                                            target_size = (64, 64),\n",
    "                                            batch_size = 32,\n",
    "                                            class_mode = 'binary')"
   ]
  },
  {
   "cell_type": "markdown",
   "metadata": {
    "colab_type": "text",
    "id": "af8O4l90gk7B"
   },
   "source": [
    "## Part 2 - Building the CNN"
   ]
  },
  {
   "cell_type": "markdown",
   "metadata": {
    "colab_type": "text",
    "id": "ces1gXY2lmoX"
   },
   "source": [
    "### Initialising the CNN"
   ]
  },
  {
   "cell_type": "code",
   "execution_count": 7,
   "metadata": {
    "colab": {},
    "colab_type": "code",
    "id": "SAUt4UMPlhLS"
   },
   "outputs": [],
   "source": [
    "cnn = tf.keras.models.Sequential()"
   ]
  },
  {
   "cell_type": "markdown",
   "metadata": {
    "colab_type": "text",
    "id": "u5YJj_XMl5LF"
   },
   "source": [
    "### Step 1 - Convolution"
   ]
  },
  {
   "cell_type": "code",
   "execution_count": 8,
   "metadata": {
    "colab": {},
    "colab_type": "code",
    "id": "XPzPrMckl-hV"
   },
   "outputs": [],
   "source": [
    "cnn.add(tf.keras.layers.Conv2D(filters=32, kernel_size=3, activation='relu', input_shape=[64, 64, 3]))"
   ]
  },
  {
   "cell_type": "markdown",
   "metadata": {
    "colab_type": "text",
    "id": "tf87FpvxmNOJ"
   },
   "source": [
    "### Step 2 - Pooling"
   ]
  },
  {
   "cell_type": "code",
   "execution_count": 9,
   "metadata": {
    "colab": {},
    "colab_type": "code",
    "id": "ncpqPl69mOac"
   },
   "outputs": [],
   "source": [
    "cnn.add(tf.keras.layers.MaxPool2D(pool_size=2, strides=2))"
   ]
  },
  {
   "cell_type": "markdown",
   "metadata": {
    "colab_type": "text",
    "id": "xaTOgD8rm4mU"
   },
   "source": [
    "### Adding a second convolutional layer"
   ]
  },
  {
   "cell_type": "code",
   "execution_count": 10,
   "metadata": {
    "colab": {},
    "colab_type": "code",
    "id": "i_-FZjn_m8gk"
   },
   "outputs": [],
   "source": [
    "cnn.add(tf.keras.layers.Conv2D(filters=32, kernel_size=3, activation='relu'))\n",
    "cnn.add(tf.keras.layers.MaxPool2D(pool_size=2, strides=2))"
   ]
  },
  {
   "cell_type": "markdown",
   "metadata": {
    "colab_type": "text",
    "id": "tmiEuvTunKfk"
   },
   "source": [
    "### Step 3 - Flattening"
   ]
  },
  {
   "cell_type": "code",
   "execution_count": 11,
   "metadata": {
    "colab": {},
    "colab_type": "code",
    "id": "6AZeOGCvnNZn"
   },
   "outputs": [],
   "source": [
    "cnn.add(tf.keras.layers.Flatten())"
   ]
  },
  {
   "cell_type": "markdown",
   "metadata": {
    "colab_type": "text",
    "id": "dAoSECOm203v"
   },
   "source": [
    "### Step 4 - Full Connection"
   ]
  },
  {
   "cell_type": "code",
   "execution_count": 12,
   "metadata": {
    "colab": {},
    "colab_type": "code",
    "id": "8GtmUlLd26Nq"
   },
   "outputs": [],
   "source": [
    "cnn.add(tf.keras.layers.Dense(units=128, activation='relu'))"
   ]
  },
  {
   "cell_type": "markdown",
   "metadata": {
    "colab_type": "text",
    "id": "yTldFvbX28Na"
   },
   "source": [
    "### Step 5 - Output Layer"
   ]
  },
  {
   "cell_type": "code",
   "execution_count": 13,
   "metadata": {
    "colab": {},
    "colab_type": "code",
    "id": "1p_Zj1Mc3Ko_"
   },
   "outputs": [],
   "source": [
    "cnn.add(tf.keras.layers.Dense(units=1, activation='sigmoid'))"
   ]
  },
  {
   "cell_type": "markdown",
   "metadata": {
    "colab_type": "text",
    "id": "D6XkI90snSDl"
   },
   "source": [
    "## Part 3 - Training the CNN"
   ]
  },
  {
   "cell_type": "markdown",
   "metadata": {
    "colab_type": "text",
    "id": "vfrFQACEnc6i"
   },
   "source": [
    "### Compiling the CNN"
   ]
  },
  {
   "cell_type": "code",
   "execution_count": 14,
   "metadata": {
    "colab": {},
    "colab_type": "code",
    "id": "NALksrNQpUlJ"
   },
   "outputs": [],
   "source": [
    "cnn.compile(optimizer = 'adam', loss = 'binary_crossentropy', metrics = ['accuracy'])"
   ]
  },
  {
   "cell_type": "markdown",
   "metadata": {
    "colab_type": "text",
    "id": "ehS-v3MIpX2h"
   },
   "source": [
    "### Training the CNN on the Training set and evaluating it on the Test set"
   ]
  },
  {
   "cell_type": "code",
   "execution_count": 23,
   "metadata": {
    "colab": {},
    "colab_type": "code",
    "id": "XUj1W4PJptta"
   },
   "outputs": [
    {
     "name": "stdout",
     "output_type": "stream",
     "text": [
      "Epoch 1/30\n",
      "251/251 [==============================] - 107s 428ms/step - loss: 0.4569 - accuracy: 0.7813 - val_loss: 1.5375 - val_accuracy: 0.4459\n",
      "Epoch 2/30\n",
      "251/251 [==============================] - 107s 426ms/step - loss: 0.4351 - accuracy: 0.7981 - val_loss: 1.2669 - val_accuracy: 0.4953\n",
      "Epoch 3/30\n",
      "251/251 [==============================] - 105s 418ms/step - loss: 0.4369 - accuracy: 0.7948 - val_loss: 1.5142 - val_accuracy: 0.4642\n",
      "Epoch 4/30\n",
      "251/251 [==============================] - 52s 207ms/step - loss: 0.4220 - accuracy: 0.8020 - val_loss: 1.7535 - val_accuracy: 0.3233\n",
      "Epoch 5/30\n",
      "251/251 [==============================] - 42s 166ms/step - loss: 0.4079 - accuracy: 0.8104 - val_loss: 1.5558 - val_accuracy: 0.4518\n",
      "Epoch 6/30\n",
      "251/251 [==============================] - 42s 166ms/step - loss: 0.4045 - accuracy: 0.8119 - val_loss: 1.4041 - val_accuracy: 0.5002\n",
      "Epoch 7/30\n",
      "251/251 [==============================] - 41s 165ms/step - loss: 0.3904 - accuracy: 0.8180 - val_loss: 2.2039 - val_accuracy: 0.3846\n",
      "Epoch 8/30\n",
      "251/251 [==============================] - 42s 167ms/step - loss: 0.3873 - accuracy: 0.8249 - val_loss: 1.0722 - val_accuracy: 0.5828\n",
      "Epoch 9/30\n",
      "251/251 [==============================] - 42s 165ms/step - loss: 0.3703 - accuracy: 0.8296 - val_loss: 1.7756 - val_accuracy: 0.4004\n",
      "Epoch 10/30\n",
      "251/251 [==============================] - 43s 173ms/step - loss: 0.3505 - accuracy: 0.8416 - val_loss: 2.1214 - val_accuracy: 0.3945\n",
      "Epoch 11/30\n",
      "251/251 [==============================] - 43s 171ms/step - loss: 0.3543 - accuracy: 0.8397 - val_loss: 1.9061 - val_accuracy: 0.4419\n",
      "Epoch 12/30\n",
      "251/251 [==============================] - 41s 164ms/step - loss: 0.3412 - accuracy: 0.8437 - val_loss: 1.4642 - val_accuracy: 0.4869\n",
      "Epoch 13/30\n",
      "251/251 [==============================] - 41s 164ms/step - loss: 0.3204 - accuracy: 0.8573 - val_loss: 1.8173 - val_accuracy: 0.4488\n",
      "Epoch 14/30\n",
      "251/251 [==============================] - 41s 165ms/step - loss: 0.3248 - accuracy: 0.8517 - val_loss: 1.5267 - val_accuracy: 0.5205\n",
      "Epoch 15/30\n",
      "251/251 [==============================] - 43s 172ms/step - loss: 0.3159 - accuracy: 0.8633 - val_loss: 1.8088 - val_accuracy: 0.4943\n",
      "Epoch 16/30\n",
      "251/251 [==============================] - 43s 170ms/step - loss: 0.2948 - accuracy: 0.8698 - val_loss: 2.0313 - val_accuracy: 0.4627\n",
      "Epoch 17/30\n",
      "251/251 [==============================] - 42s 169ms/step - loss: 0.2822 - accuracy: 0.8770 - val_loss: 1.9697 - val_accuracy: 0.4478\n",
      "Epoch 18/30\n",
      "251/251 [==============================] - 42s 166ms/step - loss: 0.2921 - accuracy: 0.8741 - val_loss: 1.9739 - val_accuracy: 0.4795\n",
      "Epoch 19/30\n",
      "251/251 [==============================] - 42s 166ms/step - loss: 0.2615 - accuracy: 0.8872 - val_loss: 2.3762 - val_accuracy: 0.4207\n",
      "Epoch 20/30\n",
      "251/251 [==============================] - 41s 163ms/step - loss: 0.2628 - accuracy: 0.8882 - val_loss: 2.6141 - val_accuracy: 0.3964\n",
      "Epoch 21/30\n",
      "251/251 [==============================] - 42s 168ms/step - loss: 0.2530 - accuracy: 0.8926 - val_loss: 2.3992 - val_accuracy: 0.4088\n",
      "Epoch 22/30\n",
      "251/251 [==============================] - 42s 169ms/step - loss: 0.2443 - accuracy: 0.8968 - val_loss: 2.5972 - val_accuracy: 0.4399\n",
      "Epoch 23/30\n",
      "251/251 [==============================] - 42s 165ms/step - loss: 0.2373 - accuracy: 0.9004 - val_loss: 1.7355 - val_accuracy: 0.5675\n",
      "Epoch 24/30\n",
      "251/251 [==============================] - 42s 166ms/step - loss: 0.2246 - accuracy: 0.9062 - val_loss: 1.9456 - val_accuracy: 0.5022\n",
      "Epoch 25/30\n",
      "251/251 [==============================] - 41s 164ms/step - loss: 0.2151 - accuracy: 0.9133 - val_loss: 1.8939 - val_accuracy: 0.5517\n",
      "Epoch 26/30\n",
      "251/251 [==============================] - 42s 168ms/step - loss: 0.2172 - accuracy: 0.9109 - val_loss: 2.5456 - val_accuracy: 0.4602\n",
      "Epoch 27/30\n",
      "251/251 [==============================] - 49s 194ms/step - loss: 0.2205 - accuracy: 0.9094 - val_loss: 2.4866 - val_accuracy: 0.4627\n",
      "Epoch 28/30\n",
      "251/251 [==============================] - 64s 255ms/step - loss: 0.2032 - accuracy: 0.9187 - val_loss: 2.7176 - val_accuracy: 0.4533\n",
      "Epoch 29/30\n",
      "251/251 [==============================] - 43s 170ms/step - loss: 0.1944 - accuracy: 0.9197 - val_loss: 3.4859 - val_accuracy: 0.4029\n",
      "Epoch 30/30\n",
      "251/251 [==============================] - 39s 157ms/step - loss: 0.1913 - accuracy: 0.9219 - val_loss: 2.5471 - val_accuracy: 0.4567\n"
     ]
    },
    {
     "data": {
      "text/plain": [
       "<keras.callbacks.History at 0x1d7abec7eb0>"
      ]
     },
     "execution_count": 23,
     "metadata": {},
     "output_type": "execute_result"
    }
   ],
   "source": [
    "cnn.fit(x = training_set, validation_data = test_set, epochs = 30)"
   ]
  },
  {
   "cell_type": "markdown",
   "metadata": {
    "colab_type": "text",
    "id": "U3PZasO0006Z"
   },
   "source": [
    "## Part 4 - Making a single prediction"
   ]
  },
  {
   "cell_type": "code",
   "execution_count": 29,
   "metadata": {
    "colab": {},
    "colab_type": "code",
    "id": "gsSiWEJY1BPB"
   },
   "outputs": [
    {
     "name": "stdout",
     "output_type": "stream",
     "text": [
      "1/1 [==============================] - 4s 4s/step\n"
     ]
    }
   ],
   "source": [
    "import numpy as np\n",
    "from keras.preprocessing import image\n",
    "test_image = tf.keras.utils.load_img('C:/Users/DELL/jupyter intel/test_set/test_set/cats/cat.4018.jpg', target_size = (64, 64))\n",
    "test_image = tf.keras.utils.img_to_array(test_image)\n",
    "test_image = np.expand_dims(test_image, axis = 0)\n",
    "result = cnn.predict(test_image)\n",
    "training_set.class_indices\n",
    "if result[0][0] == 1:\n",
    "  prediction = 'dog'\n",
    "else:\n",
    "  prediction = 'cat'"
   ]
  },
  {
   "cell_type": "code",
   "execution_count": 30,
   "metadata": {
    "colab": {},
    "colab_type": "code",
    "id": "ED9KB3I54c1i"
   },
   "outputs": [
    {
     "name": "stdout",
     "output_type": "stream",
     "text": [
      "cat\n"
     ]
    }
   ],
   "source": [
    "print(prediction)"
   ]
  },
  {
   "cell_type": "code",
   "execution_count": 31,
   "metadata": {},
   "outputs": [
    {
     "name": "stdout",
     "output_type": "stream",
     "text": [
      "Model: \"sequential\"\n",
      "_________________________________________________________________\n",
      " Layer (type)                Output Shape              Param #   \n",
      "=================================================================\n",
      " conv2d (Conv2D)             (None, 62, 62, 32)        896       \n",
      "                                                                 \n",
      " max_pooling2d (MaxPooling2D  (None, 31, 31, 32)       0         \n",
      " )                                                               \n",
      "                                                                 \n",
      " conv2d_1 (Conv2D)           (None, 29, 29, 32)        9248      \n",
      "                                                                 \n",
      " max_pooling2d_1 (MaxPooling  (None, 14, 14, 32)       0         \n",
      " 2D)                                                             \n",
      "                                                                 \n",
      " flatten (Flatten)           (None, 6272)              0         \n",
      "                                                                 \n",
      " dense (Dense)               (None, 128)               802944    \n",
      "                                                                 \n",
      " dense_1 (Dense)             (None, 1)                 129       \n",
      "                                                                 \n",
      "=================================================================\n",
      "Total params: 813,217\n",
      "Trainable params: 813,217\n",
      "Non-trainable params: 0\n",
      "_________________________________________________________________\n"
     ]
    }
   ],
   "source": [
    "cnn.summary()"
   ]
  },
  {
   "cell_type": "code",
   "execution_count": null,
   "metadata": {},
   "outputs": [],
   "source": []
  }
 ],
 "metadata": {
  "colab": {
   "collapsed_sections": [],
   "name": "convolutional_neural_network.ipynb",
   "provenance": [],
   "toc_visible": true
  },
  "kernelspec": {
   "display_name": "Python 3 (ipykernel)",
   "language": "python",
   "name": "python3"
  },
  "language_info": {
   "codemirror_mode": {
    "name": "ipython",
    "version": 3
   },
   "file_extension": ".py",
   "mimetype": "text/x-python",
   "name": "python",
   "nbconvert_exporter": "python",
   "pygments_lexer": "ipython3",
   "version": "3.9.7"
  }
 },
 "nbformat": 4,
 "nbformat_minor": 1
}
