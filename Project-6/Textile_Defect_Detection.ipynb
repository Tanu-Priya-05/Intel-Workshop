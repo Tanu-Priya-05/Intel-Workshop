{
  "cells": [
    {
      "cell_type": "code",
      "execution_count": 5,
      "metadata": {
        "colab": {
          "base_uri": "https://localhost:8080/"
        },
        "id": "J8bEHVKK_c9C",
        "outputId": "624f4afd-1e29-415c-ad0c-05d142f61d54"
      },
      "outputs": [
        {
          "output_type": "stream",
          "name": "stdout",
          "text": [
            "Mounted at /content/gdrive\n"
          ]
        }
      ],
      "source": [
        "from google.colab import drive\n",
        "drive.mount('/content/gdrive', force_remount=True)\n",
        "root_path = 'gdrive/My Drive/College/Intel Workshop/Textile Detection/'"
      ]
    },
    {
      "cell_type": "code",
      "execution_count": 6,
      "metadata": {
        "id": "wnLLbDFL_epo"
      },
      "outputs": [],
      "source": [
        "import numpy as np\n",
        "import pandas as pd\n",
        "import matplotlib.pyplot as plt\n",
        "from sklearn.model_selection import train_test_split\n",
        "import os\n",
        "import shutil\n",
        "import glob\n",
        "import cv2\n",
        "import tensorflow as tf\n",
        "from tensorflow.keras.preprocessing.image import ImageDataGenerator\n",
        "from tensorflow.keras.applications import VGG16\n",
        "from tensorflow.keras.layers import AveragePooling2D\n",
        "from tensorflow.keras.layers import Dropout\n",
        "from tensorflow.keras.layers import Flatten\n",
        "from tensorflow.keras.layers import Dense\n",
        "from tensorflow.keras.layers import Input\n",
        "from tensorflow.keras.models import Model\n",
        "from tensorflow.keras.optimizers import Adam\n",
        "from tensorflow.keras.utils import to_categorical"
      ]
    },
    {
      "cell_type": "code",
      "execution_count": 7,
      "metadata": {
        "id": "Cfbjl_KU_8y3"
      },
      "outputs": [],
      "source": [
        "baseModel = VGG16(weights=\"imagenet\", include_top = False,input_tensor=Input(shape=(224,224,3)))\n",
        "headModel = baseModel.output\n",
        "headModel = AveragePooling2D(pool_size=(7, 7))(headModel)\n",
        "headModel = Flatten(name=\"flatten\")(headModel)\n",
        "headModel = Dense(128, activation=\"relu\")(headModel)\n",
        "headModel = Dropout(0.5)(headModel)\n",
        "headModel = Dense(2, activation=\"softmax\")(headModel)\n",
        "\n",
        "\n",
        "model = Model(inputs=baseModel.input, outputs=headModel)\n",
        "for layer in baseModel.layers:\n",
        "    layer.trainable = False"
      ]
    },
    {
      "cell_type": "code",
      "execution_count": 8,
      "metadata": {
        "colab": {
          "base_uri": "https://localhost:8080/"
        },
        "id": "9tPCeyeR_-wC",
        "outputId": "dcf9e09f-fa4d-48a3-cd0a-67463cf43c90"
      },
      "outputs": [
        {
          "output_type": "stream",
          "name": "stdout",
          "text": [
            "Model: \"model_1\"\n",
            "_________________________________________________________________\n",
            " Layer (type)                Output Shape              Param #   \n",
            "=================================================================\n",
            " input_2 (InputLayer)        [(None, 224, 224, 3)]     0         \n",
            "                                                                 \n",
            " block1_conv1 (Conv2D)       (None, 224, 224, 64)      1792      \n",
            "                                                                 \n",
            " block1_conv2 (Conv2D)       (None, 224, 224, 64)      36928     \n",
            "                                                                 \n",
            " block1_pool (MaxPooling2D)  (None, 112, 112, 64)      0         \n",
            "                                                                 \n",
            " block2_conv1 (Conv2D)       (None, 112, 112, 128)     73856     \n",
            "                                                                 \n",
            " block2_conv2 (Conv2D)       (None, 112, 112, 128)     147584    \n",
            "                                                                 \n",
            " block2_pool (MaxPooling2D)  (None, 56, 56, 128)       0         \n",
            "                                                                 \n",
            " block3_conv1 (Conv2D)       (None, 56, 56, 256)       295168    \n",
            "                                                                 \n",
            " block3_conv2 (Conv2D)       (None, 56, 56, 256)       590080    \n",
            "                                                                 \n",
            " block3_conv3 (Conv2D)       (None, 56, 56, 256)       590080    \n",
            "                                                                 \n",
            " block3_pool (MaxPooling2D)  (None, 28, 28, 256)       0         \n",
            "                                                                 \n",
            " block4_conv1 (Conv2D)       (None, 28, 28, 512)       1180160   \n",
            "                                                                 \n",
            " block4_conv2 (Conv2D)       (None, 28, 28, 512)       2359808   \n",
            "                                                                 \n",
            " block4_conv3 (Conv2D)       (None, 28, 28, 512)       2359808   \n",
            "                                                                 \n",
            " block4_pool (MaxPooling2D)  (None, 14, 14, 512)       0         \n",
            "                                                                 \n",
            " block5_conv1 (Conv2D)       (None, 14, 14, 512)       2359808   \n",
            "                                                                 \n",
            " block5_conv2 (Conv2D)       (None, 14, 14, 512)       2359808   \n",
            "                                                                 \n",
            " block5_conv3 (Conv2D)       (None, 14, 14, 512)       2359808   \n",
            "                                                                 \n",
            " block5_pool (MaxPooling2D)  (None, 7, 7, 512)         0         \n",
            "                                                                 \n",
            " average_pooling2d_1 (Averag  (None, 1, 1, 512)        0         \n",
            " ePooling2D)                                                     \n",
            "                                                                 \n",
            " flatten (Flatten)           (None, 512)               0         \n",
            "                                                                 \n",
            " dense_2 (Dense)             (None, 128)               65664     \n",
            "                                                                 \n",
            " dropout_1 (Dropout)         (None, 128)               0         \n",
            "                                                                 \n",
            " dense_3 (Dense)             (None, 2)                 258       \n",
            "                                                                 \n",
            "=================================================================\n",
            "Total params: 14,780,610\n",
            "Trainable params: 65,922\n",
            "Non-trainable params: 14,714,688\n",
            "_________________________________________________________________\n",
            "None\n"
          ]
        }
      ],
      "source": [
        "print(model.summary())"
      ]
    },
    {
      "cell_type": "code",
      "execution_count": 9,
      "metadata": {
        "colab": {
          "base_uri": "https://localhost:8080/"
        },
        "id": "_qngQ3CGAAkp",
        "outputId": "09302b7c-b7cc-4924-bedc-dbff05f1944c"
      },
      "outputs": [
        {
          "output_type": "stream",
          "name": "stdout",
          "text": [
            "Found 320 images belonging to 2 classes.\n",
            "Found 64 images belonging to 2 classes.\n"
          ]
        }
      ],
      "source": [
        "rescale = 1./255\n",
        "target_size = (224, 224)\n",
        "batch_size = 32\n",
        "class_mode = \"categorical\"\n",
        "\n",
        "\n",
        "train_datagen = ImageDataGenerator(\n",
        "    rescale=rescale,\n",
        "    shear_range=0.2,\n",
        "    zoom_range=0.2,\n",
        "    horizontal_flip=True)\n",
        "train_generator = train_datagen.flow_from_directory('gdrive/My Drive/College/Intel Workshop/Textile Detection/train/',\n",
        "    target_size=target_size,\n",
        "    class_mode=class_mode,\n",
        "    batch_size=batch_size,\n",
        "    shuffle=True)\n",
        "\n",
        "validation_datagen = ImageDataGenerator(rescale=rescale)\n",
        "validation_generator = validation_datagen.flow_from_directory('gdrive/My Drive/College/Intel Workshop/Textile Detection/test/',\n",
        "    target_size=target_size,\n",
        "    class_mode=class_mode,\n",
        "    batch_size=batch_size,\n",
        "    shuffle = False)\n"
      ]
    },
    {
      "cell_type": "code",
      "execution_count": 13,
      "metadata": {
        "colab": {
          "base_uri": "https://localhost:8080/"
        },
        "id": "wv9kzzcAAFZ8",
        "outputId": "395b8bff-27ab-4a41-c6cb-6508ded4af64"
      },
      "outputs": [
        {
          "output_type": "stream",
          "name": "stderr",
          "text": [
            "/usr/local/lib/python3.7/dist-packages/keras/optimizer_v2/adam.py:105: UserWarning: The `lr` argument is deprecated, use `learning_rate` instead.\n",
            "  super(Adam, self).__init__(name, **kwargs)\n",
            "/usr/local/lib/python3.7/dist-packages/ipykernel_launcher.py:17: UserWarning: `Model.fit_generator` is deprecated and will be removed in a future version. Please use `Model.fit`, which supports generators.\n"
          ]
        },
        {
          "output_type": "stream",
          "name": "stdout",
          "text": [
            "Epoch 1/10\n",
            "10/10 [==============================] - 179s 18s/step - loss: 0.5041 - accuracy: 0.7781 - val_loss: 0.5034 - val_accuracy: 0.7656\n",
            "Epoch 2/10\n",
            "10/10 [==============================] - 175s 18s/step - loss: 0.5127 - accuracy: 0.7750 - val_loss: 0.4854 - val_accuracy: 0.8125\n",
            "Epoch 3/10\n",
            "10/10 [==============================] - 179s 18s/step - loss: 0.4933 - accuracy: 0.7875 - val_loss: 0.4702 - val_accuracy: 0.7969\n",
            "Epoch 4/10\n",
            "10/10 [==============================] - 173s 18s/step - loss: 0.4738 - accuracy: 0.7844 - val_loss: 0.4610 - val_accuracy: 0.7969\n",
            "Epoch 5/10\n",
            "10/10 [==============================] - 175s 18s/step - loss: 0.4608 - accuracy: 0.7937 - val_loss: 0.4536 - val_accuracy: 0.8125\n",
            "Epoch 6/10\n",
            "10/10 [==============================] - 174s 18s/step - loss: 0.4569 - accuracy: 0.8094 - val_loss: 0.4423 - val_accuracy: 0.7969\n",
            "Epoch 7/10\n",
            "10/10 [==============================] - 175s 18s/step - loss: 0.4629 - accuracy: 0.7844 - val_loss: 0.4349 - val_accuracy: 0.8125\n",
            "Epoch 8/10\n",
            "10/10 [==============================] - 173s 18s/step - loss: 0.4313 - accuracy: 0.8062 - val_loss: 0.4231 - val_accuracy: 0.8125\n",
            "Epoch 9/10\n",
            "10/10 [==============================] - 175s 18s/step - loss: 0.4396 - accuracy: 0.7937 - val_loss: 0.4233 - val_accuracy: 0.7969\n",
            "Epoch 10/10\n",
            "10/10 [==============================] - 179s 18s/step - loss: 0.4437 - accuracy: 0.8125 - val_loss: 0.4085 - val_accuracy: 0.8281\n"
          ]
        }
      ],
      "source": [
        "steps_per_epoch=len(train_generator)\n",
        "validation_steps=len(validation_generator)\n",
        "loss='categorical_crossentropy'\n",
        "metrics=['accuracy']\n",
        "epochs = 10\n",
        "\n",
        "opt = Adam(lr=1e-3, decay=1e-3 / 10)\n",
        "model.compile(optimizer=opt, loss=loss, metrics=metrics)\n",
        "\n",
        "history = model.fit_generator(\n",
        "    train_generator,\n",
        "    steps_per_epoch = steps_per_epoch,\n",
        "    epochs=epochs,\n",
        "    verbose=1,\n",
        "  #  callbacks=callbacks,\n",
        "    validation_data=validation_generator,\n",
        "    validation_steps=validation_steps \n",
        " #   class_weight=class_weight\n",
        "    )"
      ]
    },
    {
      "cell_type": "code",
      "execution_count": 12,
      "metadata": {
        "colab": {
          "base_uri": "https://localhost:8080/"
        },
        "id": "KFhngWWTBRYx",
        "outputId": "f6a57897-f178-413b-d37a-570ea57faa27"
      },
      "outputs": [
        {
          "output_type": "stream",
          "name": "stdout",
          "text": [
            "results for training\n"
          ]
        },
        {
          "output_type": "stream",
          "name": "stderr",
          "text": [
            "/usr/local/lib/python3.7/dist-packages/ipykernel_launcher.py:4: UserWarning: `Model.evaluate_generator` is deprecated and will be removed in a future version. Please use `Model.evaluate`, which supports generators.\n",
            "  after removing the cwd from sys.path.\n"
          ]
        },
        {
          "output_type": "stream",
          "name": "stdout",
          "text": [
            "10/10 [==============================] - 145s 14s/step - loss: 0.4908 - accuracy: 0.7812\n",
            "Loss     : 0.49  \n",
            "Accuracy : 78.12%\n",
            "results for test\n"
          ]
        },
        {
          "output_type": "stream",
          "name": "stderr",
          "text": [
            "/usr/local/lib/python3.7/dist-packages/ipykernel_launcher.py:11: UserWarning: `Model.evaluate_generator` is deprecated and will be removed in a future version. Please use `Model.evaluate`, which supports generators.\n",
            "  # This is added back by InteractiveShellApp.init_path()\n"
          ]
        },
        {
          "output_type": "stream",
          "name": "stdout",
          "text": [
            "2/2 [==============================] - 28s 14s/step - loss: 0.4963 - accuracy: 0.7969\n",
            "Loss     : 0.50  \n",
            "Accuracy : 79.69%\n",
            "results for test prediction\n"
          ]
        }
      ],
      "source": [
        "from sklearn.metrics import precision_score, recall_score, f1_score, classification_report\n",
        "\n",
        "print(\"results for training\")\n",
        "result  = model.evaluate_generator(train_generator, verbose=1)\n",
        "print(\"%s%.2f  \"% (\"Loss     : \", result[0]))\n",
        "print(\"%s%.2f%s\"% (\"Accuracy : \", result[1]*100, \"%\"))\n",
        "classes = os.listdir('gdrive/My Drive/College/Intel Workshop/Textile Detection/train/')\n",
        "\n",
        "\n",
        "print(\"results for test\")\n",
        "result  = model.evaluate_generator(validation_generator, steps=len(validation_generator), verbose=1)\n",
        "print(\"%s%.2f  \"% (\"Loss     : \", result[0]))\n",
        "print(\"%s%.2f%s\"% (\"Accuracy : \", result[1]*100, \"%\"))\n",
        "print(\"results for test prediction\")"
      ]
    },
    {
      "cell_type": "code",
      "execution_count": 14,
      "metadata": {
        "id": "JR2qHQr7RIBF",
        "colab": {
          "base_uri": "https://localhost:8080/"
        },
        "outputId": "ed8d0c2a-4f8a-4aaf-a8f2-a9a31ef2f722"
      },
      "outputs": [
        {
          "output_type": "stream",
          "name": "stderr",
          "text": [
            "/usr/local/lib/python3.7/dist-packages/ipykernel_launcher.py:1: UserWarning: `Model.predict_generator` is deprecated and will be removed in a future version. Please use `Model.predict`, which supports generators.\n",
            "  \"\"\"Entry point for launching an IPython kernel.\n"
          ]
        },
        {
          "output_type": "stream",
          "name": "stdout",
          "text": [
            "2/2 [==============================] - 29s 14s/step\n",
            "------------------------------------------------------------------------------------------\n",
            "Derived Report\n",
            "------------------------------------------------------------------------------------------\n",
            "Precision     : 94.44%\n",
            "Recall        : 62.96%\n",
            "F1-Score      : 75.56%\n",
            "------------------------------------------------------------------------------------------\n",
            "\n",
            "\n",
            "\n"
          ]
        }
      ],
      "source": [
        "y_pred = model.predict_generator(validation_generator, steps=len(validation_generator), verbose=1)  \n",
        "y_pred = y_pred.argmax(axis=-1)\n",
        "y_true=validation_generator.classes\n",
        "precision = precision_score(y_true, y_pred) \n",
        "recall = recall_score(y_true, y_pred) \n",
        "f1 = f1_score(y_true, y_pred) \n",
        "print(\"-\"*90)\n",
        "print(\"Derived Report\")\n",
        "print(\"-\"*90)\n",
        "print(\"%s%.2f%s\"% (\"Precision     : \", precision*100, \"%\"))\n",
        "print(\"%s%.2f%s\"% (\"Recall        : \", recall*100,    \"%\"))\n",
        "print(\"%s%.2f%s\"% (\"F1-Score      : \", f1*100,        \"%\"))\n",
        "print(\"-\"*90)\n",
        "print(\"\\n\\n\")"
      ]
    },
    {
      "cell_type": "code",
      "source": [
        ""
      ],
      "metadata": {
        "id": "R6vQBL2d94LP"
      },
      "execution_count": null,
      "outputs": []
    }
  ],
  "metadata": {
    "colab": {
      "collapsed_sections": [],
      "name": "Textile Defect Detection.ipynb",
      "provenance": []
    },
    "kernelspec": {
      "display_name": "Python 3",
      "name": "python3"
    },
    "language_info": {
      "name": "python"
    }
  },
  "nbformat": 4,
  "nbformat_minor": 0
}